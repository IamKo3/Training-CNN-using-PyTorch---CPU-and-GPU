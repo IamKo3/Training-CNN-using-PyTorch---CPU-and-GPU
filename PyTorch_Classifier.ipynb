{
 "cells": [
  {
   "cell_type": "markdown",
   "metadata": {},
   "source": [
    "# Set Training and Test data"
   ]
  },
  {
   "cell_type": "code",
   "execution_count": 12,
   "metadata": {},
   "outputs": [],
   "source": [
    "import torch\n",
    "import torchvision\n",
    "import torchvision.transforms as transforms\n",
    "import time"
   ]
  },
  {
   "cell_type": "code",
   "execution_count": 13,
   "metadata": {},
   "outputs": [
    {
     "name": "stdout",
     "output_type": "stream",
     "text": [
      "Files already downloaded and verified\n",
      "Files already downloaded and verified\n"
     ]
    },
    {
     "data": {
      "text/plain": [
       "Dataset CIFAR10\n",
       "    Number of datapoints: 10000\n",
       "    Root location: ./data\n",
       "    Split: Test"
      ]
     },
     "execution_count": 13,
     "metadata": {},
     "output_type": "execute_result"
    }
   ],
   "source": [
    "transform = transforms.Compose(\n",
    "    [transforms.ToTensor(),\n",
    "     transforms.Normalize((0.5, 0.5, 0.5), (0.5, 0.5, 0.5))])\n",
    "\n",
    "trainset = torchvision.datasets.CIFAR10(root='./data', train=True,\n",
    "                                        download=True, transform=transform)\n",
    "trainloader = torch.utils.data.DataLoader(trainset, batch_size=4,\n",
    "                                          shuffle=True, num_workers=2)\n",
    "\n",
    "testset = torchvision.datasets.CIFAR10(root='./data', train=False,\n",
    "                                       download=True, transform=transform)\n",
    "testloader = torch.utils.data.DataLoader(testset, batch_size=4,\n",
    "                                         shuffle=False, num_workers=2)\n",
    "\n",
    "classes = ('plane', 'car', 'bird', 'cat',\n",
    "           'deer', 'dog', 'frog', 'horse', 'ship', 'truck')\n",
    "\n",
    "testset"
   ]
  },
  {
   "cell_type": "markdown",
   "metadata": {},
   "source": [
    "# Define a CNN"
   ]
  },
  {
   "cell_type": "code",
   "execution_count": 14,
   "metadata": {},
   "outputs": [],
   "source": [
    "import torch.nn as nn\n",
    "import torch.nn.functional as F\n",
    "class Net(nn.Module):\n",
    "    def __init__(self):\n",
    "        super(Net,self).__init__()\n",
    "        # 3 input channel, 6 output channel, 5x5 conv kernel\n",
    "        self.conv1 = nn.Conv2d(3, 6, 5)\n",
    "        # 2x2 maxpool\n",
    "        self.pool = nn.MaxPool2d(2,2)\n",
    "        self.conv2 = nn.Conv2d(6, 16, 5)\n",
    "        self.fc1 = nn.Linear(16 * 5 * 5, 120)\n",
    "        self.fc2 = nn.Linear(120, 84)\n",
    "        self.fc3 = nn.Linear(84, 10)\n",
    "        \n",
    "    def forward(self, x):\n",
    "        x = self.pool(F.relu(self.conv1(x)))\n",
    "        x = self.pool(F.relu(self.conv2(x)))\n",
    "        x = x.view(-1, 16 * 5 * 5)\n",
    "        x = F.relu(self.fc1(x))\n",
    "        x = F.relu(self.fc2(x))\n",
    "        x = self.fc3(x)\n",
    "        return x\n",
    "\n",
    "# intantiate\n",
    "net = Net()"
   ]
  },
  {
   "cell_type": "markdown",
   "metadata": {},
   "source": [
    "# Choose loss and optimizer function"
   ]
  },
  {
   "cell_type": "code",
   "execution_count": 15,
   "metadata": {},
   "outputs": [],
   "source": [
    "import torch.optim as optim\n",
    "\n",
    "criterion = nn.CrossEntropyLoss()\n",
    "optimizer = optim.SGD(net.parameters(), lr=0.001, momentum=0.9)\n"
   ]
  },
  {
   "cell_type": "markdown",
   "metadata": {},
   "source": [
    "# Training on CPU"
   ]
  },
  {
   "cell_type": "code",
   "execution_count": 16,
   "metadata": {},
   "outputs": [
    {
     "data": {
      "text/plain": [
       "Net(\n",
       "  (conv1): Conv2d(3, 6, kernel_size=(5, 5), stride=(1, 1))\n",
       "  (pool): MaxPool2d(kernel_size=2, stride=2, padding=0, dilation=1, ceil_mode=False)\n",
       "  (conv2): Conv2d(6, 16, kernel_size=(5, 5), stride=(1, 1))\n",
       "  (fc1): Linear(in_features=400, out_features=120, bias=True)\n",
       "  (fc2): Linear(in_features=120, out_features=84, bias=True)\n",
       "  (fc3): Linear(in_features=84, out_features=10, bias=True)\n",
       ")"
      ]
     },
     "execution_count": 16,
     "metadata": {},
     "output_type": "execute_result"
    }
   ],
   "source": [
    "device = torch.device(\"cpu\")\n",
    "net.to(device)"
   ]
  },
  {
   "cell_type": "code",
   "execution_count": 17,
   "metadata": {},
   "outputs": [
    {
     "name": "stdout",
     "output_type": "stream",
     "text": [
      "[1,  2000] loss: 2.21\n",
      "[1,  4000] loss: 1.94\n",
      "[1,  6000] loss: 1.72\n",
      "[1,  8000] loss: 1.60\n",
      "[1, 10000] loss: 1.57\n",
      "[1, 12000] loss: 1.49\n",
      "[2,  2000] loss: 1.42\n",
      "[2,  4000] loss: 1.40\n",
      "[2,  6000] loss: 1.35\n",
      "[2,  8000] loss: 1.34\n",
      "[2, 10000] loss: 1.35\n",
      "[2, 12000] loss: 1.31\n",
      "[3,  2000] loss: 1.22\n",
      "[3,  4000] loss: 1.25\n",
      "[3,  6000] loss: 1.23\n",
      "[3,  8000] loss: 1.21\n",
      "[3, 10000] loss: 1.20\n",
      "[3, 12000] loss: 1.18\n",
      "[4,  2000] loss: 1.12\n",
      "[4,  4000] loss: 1.11\n",
      "[4,  6000] loss: 1.13\n",
      "[4,  8000] loss: 1.12\n",
      "[4, 10000] loss: 1.11\n",
      "[4, 12000] loss: 1.12\n",
      "[5,  2000] loss: 1.04\n",
      "[5,  4000] loss: 1.01\n",
      "[5,  6000] loss: 1.03\n",
      "[5,  8000] loss: 1.04\n",
      "[5, 10000] loss: 1.05\n",
      "[5, 12000] loss: 1.07\n",
      "Finished!\n",
      "Time taken on CPU: 270.08389806747437\n"
     ]
    }
   ],
   "source": [
    "t = time.time()\n",
    "# epoch = 5\n",
    "for epoch in range(5): \n",
    "\n",
    "    running_loss = 0.0\n",
    "    for i, data in enumerate(trainloader, 0):\n",
    "        \n",
    "        inputs, labels = data[0].to(device) , data[1].to(device)\n",
    "\n",
    "        # zero the parameter gradients\n",
    "        optimizer.zero_grad()\n",
    "\n",
    "        # forward\n",
    "        outputs = net(inputs)\n",
    "        loss = criterion(outputs, labels)\n",
    "        # backward\n",
    "        loss.backward()\n",
    "        # optimize\n",
    "        optimizer.step()\n",
    "\n",
    "        # print statistics\n",
    "        running_loss += loss.item()\n",
    "        if i % 2000 == 1999:    # every 2000 mini-batches\n",
    "            print('[%d, %5d] loss: %.2f' %\n",
    "                  (epoch + 1, i + 1, running_loss / 2000))\n",
    "            # initialize to zero for next epoch\n",
    "            running_loss = 0.0\n",
    "\n",
    "print('Finished!')\n",
    "\n",
    "print('Time taken on CPU:',time.time() - t)"
   ]
  },
  {
   "cell_type": "markdown",
   "metadata": {},
   "source": [
    "# Training On GPU"
   ]
  },
  {
   "cell_type": "code",
   "execution_count": 20,
   "metadata": {},
   "outputs": [
    {
     "name": "stdout",
     "output_type": "stream",
     "text": [
      "cuda:0\n"
     ]
    },
    {
     "data": {
      "text/plain": [
       "Net(\n",
       "  (conv1): Conv2d(3, 6, kernel_size=(5, 5), stride=(1, 1))\n",
       "  (pool): MaxPool2d(kernel_size=2, stride=2, padding=0, dilation=1, ceil_mode=False)\n",
       "  (conv2): Conv2d(6, 16, kernel_size=(5, 5), stride=(1, 1))\n",
       "  (fc1): Linear(in_features=400, out_features=120, bias=True)\n",
       "  (fc2): Linear(in_features=120, out_features=84, bias=True)\n",
       "  (fc3): Linear(in_features=84, out_features=10, bias=True)\n",
       ")"
      ]
     },
     "execution_count": 20,
     "metadata": {},
     "output_type": "execute_result"
    }
   ],
   "source": [
    "net = Net()\n",
    "# one GPU\n",
    "device = torch.device('cuda:0')\n",
    "print(device)\n",
    "net.to(device)"
   ]
  },
  {
   "cell_type": "code",
   "execution_count": 21,
   "metadata": {},
   "outputs": [
    {
     "name": "stdout",
     "output_type": "stream",
     "text": [
      "[1,  2000] loss: 2.30\n",
      "[1,  4000] loss: 2.30\n",
      "[1,  6000] loss: 2.30\n",
      "[1,  8000] loss: 2.30\n",
      "[1, 10000] loss: 2.31\n",
      "[1, 12000] loss: 2.31\n",
      "[2,  2000] loss: 2.30\n",
      "[2,  4000] loss: 2.31\n",
      "[2,  6000] loss: 2.31\n",
      "[2,  8000] loss: 2.30\n",
      "[2, 10000] loss: 2.30\n",
      "[2, 12000] loss: 2.30\n",
      "[3,  2000] loss: 2.30\n",
      "[3,  4000] loss: 2.30\n",
      "[3,  6000] loss: 2.31\n",
      "[3,  8000] loss: 2.30\n",
      "[3, 10000] loss: 2.30\n",
      "[3, 12000] loss: 2.30\n",
      "[4,  2000] loss: 2.31\n",
      "[4,  4000] loss: 2.30\n",
      "[4,  6000] loss: 2.31\n",
      "[4,  8000] loss: 2.31\n",
      "[4, 10000] loss: 2.30\n",
      "[4, 12000] loss: 2.30\n",
      "[5,  2000] loss: 2.31\n",
      "[5,  4000] loss: 2.30\n",
      "[5,  6000] loss: 2.30\n",
      "[5,  8000] loss: 2.30\n",
      "[5, 10000] loss: 2.31\n",
      "[5, 12000] loss: 2.30\n",
      "Finished!\n",
      "Time taken on GPU: 174.4679172039032\n"
     ]
    }
   ],
   "source": [
    "t = time.time()\n",
    "# epoch = 5\n",
    "for epoch in range(5): \n",
    "\n",
    "    running_loss = 0.0\n",
    "    for i, data in enumerate(trainloader, 0):\n",
    "        \n",
    "        inputs, labels = data[0].to(device) , data[1].to(device)\n",
    "\n",
    "        # zero the parameter gradients\n",
    "        optimizer.zero_grad()\n",
    "\n",
    "        # forward\n",
    "        outputs = net(inputs)\n",
    "        loss = criterion(outputs, labels)\n",
    "        # backward\n",
    "        loss.backward()\n",
    "        # optimize\n",
    "        optimizer.step()\n",
    "\n",
    "        # print statistics\n",
    "        running_loss += loss.item()\n",
    "        if i % 2000 == 1999:    # every 2000 mini-batches\n",
    "            print('[%d, %5d] loss: %.2f' %\n",
    "                  (epoch + 1, i + 1, running_loss / 2000))\n",
    "            # initialize to zero for next epoch\n",
    "            running_loss = 0.0\n",
    "\n",
    "print('Finished!')\n",
    "\n",
    "print('Time taken on GPU:',time.time() - t)"
   ]
  },
  {
   "cell_type": "markdown",
   "metadata": {},
   "source": [
    "### Training took ~ 270 secs on CPU and ~174 secs on GTX 1050 GPU."
   ]
  }
 ],
 "metadata": {
  "kernelspec": {
   "display_name": "Python 3",
   "language": "python",
   "name": "python3"
  },
  "language_info": {
   "codemirror_mode": {
    "name": "ipython",
    "version": 3
   },
   "file_extension": ".py",
   "mimetype": "text/x-python",
   "name": "python",
   "nbconvert_exporter": "python",
   "pygments_lexer": "ipython3",
   "version": "3.7.3"
  }
 },
 "nbformat": 4,
 "nbformat_minor": 2
}
